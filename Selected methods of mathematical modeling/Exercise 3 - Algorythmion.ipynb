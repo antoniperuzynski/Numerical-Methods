{
 "cells": [
  {
   "cell_type": "markdown",
   "metadata": {
    "id": "NeJBGFI35Bw6"
   },
   "source": [
    "Autorzy: Antoni Perużyński, Karolina Tatarczyk"
   ]
  },
  {
   "cell_type": "markdown",
   "metadata": {
    "id": "Z7VVcWaM48Px"
   },
   "source": [
    "# Algorytmion rok 2021\n",
    "## ZADANIE 1 – SUMMA SUMMARRUM, TO SUMA SUM"
   ]
  },
  {
   "cell_type": "markdown",
   "metadata": {
    "id": "V1-gTRtu48GC"
   },
   "source": [
    "Oznaczmy, że dla dowolnego $k \\in \\mathbb{N}$\n",
    "$$\\sum_{i=1}^k \\frac{1}{i}= \\frac{1}{1}+  \\frac{1}{2}+ \\frac{1}{3}+\\dots + \\frac{1}{k}=s(k)$$\n",
    "Oblicz:\n",
    "\\begin{equation}\n",
    "\\left(\\frac{4-1}{2+1}+\\frac{9-4}{3+2}+\\frac{16-9}{4+3}+\\dots +\\frac{4084441-4080400}{2021+2020}\\right)+\\left(\\frac{4-1}{1}+\\frac{9-4}{2}+\\frac{16-9}{3}+\\dots +\\frac{4084441-4080400}{2020}\\right)+ \\left(\\frac{1}{2\\cdot 1}+\\frac{1}{3\\cdot 2}+\\frac{1}{4\\cdot 3}+\\dots +\\frac{1}{2021\\cdot 2020}\\right) \n",
    "\\end{equation}\n",
    "\n",
    "\n",
    "Odpowiedź podaj w postaci sumy: $r+ \\frac{p}{q} + s(t)$, gdzie $r,p,q,t \\in \\mathbb{N}, p<q$."
   ]
  },
  {
   "cell_type": "markdown",
   "metadata": {
    "id": "TX-ASox248Bh"
   },
   "source": [
    "Napisz program, który będzie zwracał poszukiwaną sumę w postaci podanej sumy, jeśli jako argument tego programu podamy liczbę $n \\in \\mathbb{N}$, będącą ilością składników każdej składowej obliczanej sumy (w pierwszej części zadania $n=2020$).\n",
    "\n",
    "Przykładowo, jeśli podamy $n=3$, to obliczana suma miałaby postać:\n",
    "$$\\left(\\frac{4-1}{2+1}+\\frac{9-4}{3+2}+\\frac{16-9}{4+3}\\right)+\\left(\\frac{4-1}{1}+\\frac{9-4}{2}+\\frac{16-9}{3}\\right)+ \\left(\\frac{1}{2\\cdot 1}+\\frac{1}{3\\cdot 2}+\\frac{1}{4\\cdot 3}\\right),$$\n",
    "\n",
    "a program zwróciłby napis: $9+ \\frac{3}{4}+ s(3)$.\n",
    "\n",
    "Uwaga: to zadanie w $95\\%$ jest matematyczne, więc komplet punktów można otrzymać za wyprowadzenie wzoru na tę sumę, a program korzystał będzie z tego wzoru. \n",
    "\n",
    "Uwaga: postać $r+\\frac{p}{g} + s(t)$ poszukiwanej sumy nie jest jednoznaczna, jednak jeśli przyjmiemy $t=n$, to wówczas jest ona jednoznaczna."
   ]
  },
  {
   "cell_type": "markdown",
   "metadata": {
    "id": "X03nPsIQ48AK"
   },
   "source": [
    "## Rozwiązanie\n",
    "\n",
    "Rozważamy sumę z pierwszego nawiasu:\n",
    "$$\\frac{4-1}{2+1}+\\frac{9-4}{3+2}+\\frac{16-9}{4+3}+\\dots +\\frac{(n+1)^2-n^2}{(n+1)+n}= \\sum_{i=1}^n \\frac{(i+1)^2-i^2}{(i+1)+i} =\\sum_{i=1}^n \\frac{i^2+2i+1-i^2}{2i+1}=\\sum_{i=1}^n \\frac{2i+1}{2i+1}=\\sum_{i=1}^n 1 = n$$\n",
    "\n",
    "Teraz suma nr 2:\n",
    "$$\\frac{4-1}{1}+\\frac{9-4}{2}+\\frac{16-9}{3}+\\dots +\\frac{(n+1)^2-n^2}{n}= \\sum_{i=1}^n \\frac{(i+1)^2-i^2}{i} =\\sum_{i=1}^n \\frac{i^2+2i+1-i^2}{i}=\\sum_{i=1}^n \\frac{2i+1}{i}=\\sum_{i=1}^n 2 + \\sum_{i=1}^n\\frac{1}{i} = 2n + s(n) $$\n",
    "\n",
    "I trzecia suma:\n",
    "$$\\frac{1}{2\\cdot 1}+\\frac{1}{3\\cdot 2}+\\frac{1}{4\\cdot 3}+\\dots +\\frac{1}{(n+1)\\cdot n} = \\sum_{i=1}^n \\frac{1}{(i+1)\\cdot i} =\\sum_{i=1}^n \\left(\\frac{1}{i}-\\frac{1}{i+1}\\right)$$\n",
    "\n",
    "Teraz rozpisując otrzymaną sumę otrzymujemy:\n",
    "$$\\sum_{i=1}^n \\left(\\frac{1}{i}-\\frac{1}{i+1}\\right)= \\frac{1}{1}- \\frac{1}{2}+\\frac{1}{2}-\\frac{1}{3}+\\dots + \\frac{1}{n-1}-\\frac{1}{n}+\\frac{1}{n}-\\frac{1}{n+1}$$\n",
    "\n",
    "Można zauważyć, że odjemnik oraz kolejna odjemna eliminują się nawzajem i w taki sposób w równaniu zostanie tylko pierwszy i ostatni element.\n",
    "\n",
    "$$\\sum_{i=1}^n \\left(\\frac{1}{i}-\\frac{1}{i+1}\\right)= \\frac{1}{1}-\\frac{1}{n+1}=\\frac{n}{n+1}$$\n",
    "\n",
    "W ostateczności pierwsze równanie można sprowadzić do wzoru:\n",
    "$$n+2n+s(n)+\\frac{n}{n+1}=3n+s(n)+\\frac{n}{n+1}$$\n",
    "\n",
    "Mamy:\n",
    "- $r=3n$\n",
    "-$\\frac{p}{q}=\\frac{n}{n+1}$\n",
    "- $s(t)=s(n)$"
   ]
  },
  {
   "cell_type": "markdown",
   "metadata": {},
   "source": [
    "## Program"
   ]
  },
  {
   "cell_type": "code",
   "execution_count": 4,
   "metadata": {
    "id": "QEr181Li3xcE"
   },
   "outputs": [],
   "source": [
    "from fractions import Fraction"
   ]
  },
  {
   "cell_type": "code",
   "execution_count": 49,
   "metadata": {
    "id": "kWaaLSsv3UT1"
   },
   "outputs": [],
   "source": [
    "def funkcja(n: int):\n",
    "    return f\"Wynik({n}) = {3*n} + s({n}) + {Fraction(n,n+1)}\""
   ]
  },
  {
   "cell_type": "code",
   "execution_count": 50,
   "metadata": {
    "colab": {
     "base_uri": "https://localhost:8080/",
     "height": 36
    },
    "id": "BhDzvu2f3wqg",
    "outputId": "54abdbeb-29bf-4c6d-b3df-79488d336e1c"
   },
   "outputs": [
    {
     "data": {
      "application/vnd.google.colaboratory.intrinsic+json": {
       "type": "string"
      },
      "text/plain": [
       "'Wynik(4) = 12 + s(4) + 4/5'"
      ]
     },
     "execution_count": 50,
     "metadata": {},
     "output_type": "execute_result"
    }
   ],
   "source": [
    "funkcja(4)"
   ]
  }
 ],
 "metadata": {
  "colab": {
   "provenance": []
  },
  "kernelspec": {
   "display_name": "Python 3 (ipykernel)",
   "language": "python",
   "name": "python3"
  },
  "language_info": {
   "codemirror_mode": {
    "name": "ipython",
    "version": 3
   },
   "file_extension": ".py",
   "mimetype": "text/x-python",
   "name": "python",
   "nbconvert_exporter": "python",
   "pygments_lexer": "ipython3",
   "version": "3.9.7"
  }
 },
 "nbformat": 4,
 "nbformat_minor": 1
}
